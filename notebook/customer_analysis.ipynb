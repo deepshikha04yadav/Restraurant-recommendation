{
 "cells": [
  {
   "cell_type": "code",
   "execution_count": 1,
   "id": "46587293",
   "metadata": {},
   "outputs": [],
   "source": [
    "import pandas as pd"
   ]
  },
  {
   "cell_type": "code",
   "execution_count": 2,
   "id": "af396af1",
   "metadata": {},
   "outputs": [],
   "source": [
    "# Training data\n",
    "train_customers = pd.read_csv(\"../train/train_customers.csv\")\n"
   ]
  },
  {
   "cell_type": "code",
   "execution_count": 3,
   "id": "1331bec8",
   "metadata": {},
   "outputs": [
    {
     "data": {
      "text/html": [
       "<div>\n",
       "<style scoped>\n",
       "    .dataframe tbody tr th:only-of-type {\n",
       "        vertical-align: middle;\n",
       "    }\n",
       "\n",
       "    .dataframe tbody tr th {\n",
       "        vertical-align: top;\n",
       "    }\n",
       "\n",
       "    .dataframe thead th {\n",
       "        text-align: right;\n",
       "    }\n",
       "</style>\n",
       "<table border=\"1\" class=\"dataframe\">\n",
       "  <thead>\n",
       "    <tr style=\"text-align: right;\">\n",
       "      <th></th>\n",
       "      <th>customer_id</th>\n",
       "      <th>gender</th>\n",
       "      <th>dob</th>\n",
       "      <th>status</th>\n",
       "      <th>verified</th>\n",
       "      <th>language</th>\n",
       "      <th>created_at</th>\n",
       "      <th>updated_at</th>\n",
       "    </tr>\n",
       "  </thead>\n",
       "  <tbody>\n",
       "    <tr>\n",
       "      <th>0</th>\n",
       "      <td>TCHWPBT</td>\n",
       "      <td>Male</td>\n",
       "      <td>NaN</td>\n",
       "      <td>1</td>\n",
       "      <td>1</td>\n",
       "      <td>EN</td>\n",
       "      <td>2/7/2023 19:16</td>\n",
       "      <td>2/7/2023 19:16</td>\n",
       "    </tr>\n",
       "    <tr>\n",
       "      <th>1</th>\n",
       "      <td>ZGFSYCZ</td>\n",
       "      <td>Male</td>\n",
       "      <td>NaN</td>\n",
       "      <td>1</td>\n",
       "      <td>1</td>\n",
       "      <td>EN</td>\n",
       "      <td>2/9/2023 12:04</td>\n",
       "      <td>2/9/2023 12:04</td>\n",
       "    </tr>\n",
       "    <tr>\n",
       "      <th>2</th>\n",
       "      <td>S2ALZFL</td>\n",
       "      <td>Male</td>\n",
       "      <td>NaN</td>\n",
       "      <td>0</td>\n",
       "      <td>1</td>\n",
       "      <td>EN</td>\n",
       "      <td>3/14/2023 18:31</td>\n",
       "      <td>3/14/2023 18:31</td>\n",
       "    </tr>\n",
       "    <tr>\n",
       "      <th>3</th>\n",
       "      <td>952DBJQ</td>\n",
       "      <td>Male</td>\n",
       "      <td>NaN</td>\n",
       "      <td>1</td>\n",
       "      <td>1</td>\n",
       "      <td>EN</td>\n",
       "      <td>3/15/2023 19:47</td>\n",
       "      <td>3/15/2023 19:47</td>\n",
       "    </tr>\n",
       "    <tr>\n",
       "      <th>4</th>\n",
       "      <td>1IX6FXS</td>\n",
       "      <td>Male</td>\n",
       "      <td>NaN</td>\n",
       "      <td>1</td>\n",
       "      <td>1</td>\n",
       "      <td>EN</td>\n",
       "      <td>3/15/2023 19:57</td>\n",
       "      <td>3/15/2023 19:57</td>\n",
       "    </tr>\n",
       "  </tbody>\n",
       "</table>\n",
       "</div>"
      ],
      "text/plain": [
       "  customer_id gender  dob  status  verified language       created_at  \\\n",
       "0     TCHWPBT   Male  NaN       1         1       EN   2/7/2023 19:16   \n",
       "1     ZGFSYCZ   Male  NaN       1         1       EN   2/9/2023 12:04   \n",
       "2     S2ALZFL   Male  NaN       0         1       EN  3/14/2023 18:31   \n",
       "3     952DBJQ   Male  NaN       1         1       EN  3/15/2023 19:47   \n",
       "4     1IX6FXS   Male  NaN       1         1       EN  3/15/2023 19:57   \n",
       "\n",
       "        updated_at  \n",
       "0   2/7/2023 19:16  \n",
       "1   2/9/2023 12:04  \n",
       "2  3/14/2023 18:31  \n",
       "3  3/15/2023 19:47  \n",
       "4  3/15/2023 19:57  "
      ]
     },
     "execution_count": 3,
     "metadata": {},
     "output_type": "execute_result"
    }
   ],
   "source": [
    "train_customers.head() # Display the first few rows of the training customers dataset"
   ]
  },
  {
   "cell_type": "code",
   "execution_count": 4,
   "id": "45853fcc",
   "metadata": {},
   "outputs": [
    {
     "name": "stdout",
     "output_type": "stream",
     "text": [
      "<class 'pandas.core.frame.DataFrame'>\n",
      "RangeIndex: 34674 entries, 0 to 34673\n",
      "Data columns (total 8 columns):\n",
      " #   Column       Non-Null Count  Dtype  \n",
      "---  ------       --------------  -----  \n",
      " 0   customer_id  34674 non-null  object \n",
      " 1   gender       22520 non-null  object \n",
      " 2   dob          3046 non-null   float64\n",
      " 3   status       34674 non-null  int64  \n",
      " 4   verified     34674 non-null  int64  \n",
      " 5   language     21099 non-null  object \n",
      " 6   created_at   34674 non-null  object \n",
      " 7   updated_at   34674 non-null  object \n",
      "dtypes: float64(1), int64(2), object(5)\n",
      "memory usage: 2.1+ MB\n"
     ]
    }
   ],
   "source": [
    "train_customers.info() # Display information about the training orders dataset"
   ]
  },
  {
   "cell_type": "code",
   "execution_count": 5,
   "id": "a90f8019",
   "metadata": {},
   "outputs": [
    {
     "name": "stderr",
     "output_type": "stream",
     "text": [
      "C:\\Users\\dybsb\\AppData\\Local\\Temp\\ipykernel_13812\\2172428087.py:1: FutureWarning: A value is trying to be set on a copy of a DataFrame or Series through chained assignment using an inplace method.\n",
      "The behavior will change in pandas 3.0. This inplace method will never work because the intermediate object on which we are setting values always behaves as a copy.\n",
      "\n",
      "For example, when doing 'df[col].method(value, inplace=True)', try using 'df.method({col: value}, inplace=True)' or df[col] = df[col].method(value) instead, to perform the operation inplace on the original object.\n",
      "\n",
      "\n",
      "  train_customers['gender'].fillna('Unknown', inplace=True) # Fill missing values in gender with 'Unknown'\n"
     ]
    }
   ],
   "source": [
    "train_customers['gender'].fillna('Unknown', inplace=True) # Fill missing values in gender with 'Unknown'\n"
   ]
  },
  {
   "cell_type": "code",
   "execution_count": 6,
   "id": "c4f95956",
   "metadata": {},
   "outputs": [
    {
     "data": {
      "text/plain": [
       "0           Male\n",
       "1           Male\n",
       "2           Male\n",
       "3           Male\n",
       "4           Male\n",
       "          ...   \n",
       "34669    Unknown\n",
       "34670    Unknown\n",
       "34671    Unknown\n",
       "34672    Unknown\n",
       "34673    Unknown\n",
       "Name: gender, Length: 34674, dtype: object"
      ]
     },
     "execution_count": 6,
     "metadata": {},
     "output_type": "execute_result"
    }
   ],
   "source": [
    "train_customers['gender']"
   ]
  },
  {
   "cell_type": "code",
   "execution_count": 7,
   "id": "ed7bbc17",
   "metadata": {},
   "outputs": [],
   "source": [
    "from datetime import datetime\n",
    "\n",
    "# Only keep valid years (if it's year-like float)\n",
    "train_customers['age'] = datetime.now().year - train_customers['dob']\n",
    "train_customers['age'] = train_customers['age'].where(train_customers['dob'].notnull(), other=None)\n"
   ]
  },
  {
   "cell_type": "code",
   "execution_count": 8,
   "id": "a9d47d7f",
   "metadata": {},
   "outputs": [
    {
     "data": {
      "text/html": [
       "<div>\n",
       "<style scoped>\n",
       "    .dataframe tbody tr th:only-of-type {\n",
       "        vertical-align: middle;\n",
       "    }\n",
       "\n",
       "    .dataframe tbody tr th {\n",
       "        vertical-align: top;\n",
       "    }\n",
       "\n",
       "    .dataframe thead th {\n",
       "        text-align: right;\n",
       "    }\n",
       "</style>\n",
       "<table border=\"1\" class=\"dataframe\">\n",
       "  <thead>\n",
       "    <tr style=\"text-align: right;\">\n",
       "      <th></th>\n",
       "      <th>customer_id</th>\n",
       "      <th>gender</th>\n",
       "      <th>dob</th>\n",
       "      <th>status</th>\n",
       "      <th>verified</th>\n",
       "      <th>language</th>\n",
       "      <th>created_at</th>\n",
       "      <th>updated_at</th>\n",
       "      <th>age</th>\n",
       "    </tr>\n",
       "  </thead>\n",
       "  <tbody>\n",
       "    <tr>\n",
       "      <th>0</th>\n",
       "      <td>TCHWPBT</td>\n",
       "      <td>Male</td>\n",
       "      <td>NaN</td>\n",
       "      <td>1</td>\n",
       "      <td>1</td>\n",
       "      <td>EN</td>\n",
       "      <td>2/7/2023 19:16</td>\n",
       "      <td>2/7/2023 19:16</td>\n",
       "      <td>NaN</td>\n",
       "    </tr>\n",
       "    <tr>\n",
       "      <th>1</th>\n",
       "      <td>ZGFSYCZ</td>\n",
       "      <td>Male</td>\n",
       "      <td>NaN</td>\n",
       "      <td>1</td>\n",
       "      <td>1</td>\n",
       "      <td>EN</td>\n",
       "      <td>2/9/2023 12:04</td>\n",
       "      <td>2/9/2023 12:04</td>\n",
       "      <td>NaN</td>\n",
       "    </tr>\n",
       "    <tr>\n",
       "      <th>2</th>\n",
       "      <td>S2ALZFL</td>\n",
       "      <td>Male</td>\n",
       "      <td>NaN</td>\n",
       "      <td>0</td>\n",
       "      <td>1</td>\n",
       "      <td>EN</td>\n",
       "      <td>3/14/2023 18:31</td>\n",
       "      <td>3/14/2023 18:31</td>\n",
       "      <td>NaN</td>\n",
       "    </tr>\n",
       "    <tr>\n",
       "      <th>3</th>\n",
       "      <td>952DBJQ</td>\n",
       "      <td>Male</td>\n",
       "      <td>NaN</td>\n",
       "      <td>1</td>\n",
       "      <td>1</td>\n",
       "      <td>EN</td>\n",
       "      <td>3/15/2023 19:47</td>\n",
       "      <td>3/15/2023 19:47</td>\n",
       "      <td>NaN</td>\n",
       "    </tr>\n",
       "    <tr>\n",
       "      <th>4</th>\n",
       "      <td>1IX6FXS</td>\n",
       "      <td>Male</td>\n",
       "      <td>NaN</td>\n",
       "      <td>1</td>\n",
       "      <td>1</td>\n",
       "      <td>EN</td>\n",
       "      <td>3/15/2023 19:57</td>\n",
       "      <td>3/15/2023 19:57</td>\n",
       "      <td>NaN</td>\n",
       "    </tr>\n",
       "  </tbody>\n",
       "</table>\n",
       "</div>"
      ],
      "text/plain": [
       "  customer_id gender  dob  status  verified language       created_at  \\\n",
       "0     TCHWPBT   Male  NaN       1         1       EN   2/7/2023 19:16   \n",
       "1     ZGFSYCZ   Male  NaN       1         1       EN   2/9/2023 12:04   \n",
       "2     S2ALZFL   Male  NaN       0         1       EN  3/14/2023 18:31   \n",
       "3     952DBJQ   Male  NaN       1         1       EN  3/15/2023 19:47   \n",
       "4     1IX6FXS   Male  NaN       1         1       EN  3/15/2023 19:57   \n",
       "\n",
       "        updated_at  age  \n",
       "0   2/7/2023 19:16  NaN  \n",
       "1   2/9/2023 12:04  NaN  \n",
       "2  3/14/2023 18:31  NaN  \n",
       "3  3/15/2023 19:47  NaN  \n",
       "4  3/15/2023 19:57  NaN  "
      ]
     },
     "execution_count": 8,
     "metadata": {},
     "output_type": "execute_result"
    }
   ],
   "source": [
    "train_customers.head()"
   ]
  },
  {
   "cell_type": "code",
   "execution_count": 9,
   "id": "89e48122",
   "metadata": {},
   "outputs": [],
   "source": [
    "train_customers.drop(columns=['dob'], inplace=True)  # Drop the 'dob' column"
   ]
  },
  {
   "cell_type": "code",
   "execution_count": 10,
   "id": "2d81f9ae",
   "metadata": {},
   "outputs": [
    {
     "data": {
      "text/html": [
       "<div>\n",
       "<style scoped>\n",
       "    .dataframe tbody tr th:only-of-type {\n",
       "        vertical-align: middle;\n",
       "    }\n",
       "\n",
       "    .dataframe tbody tr th {\n",
       "        vertical-align: top;\n",
       "    }\n",
       "\n",
       "    .dataframe thead th {\n",
       "        text-align: right;\n",
       "    }\n",
       "</style>\n",
       "<table border=\"1\" class=\"dataframe\">\n",
       "  <thead>\n",
       "    <tr style=\"text-align: right;\">\n",
       "      <th></th>\n",
       "      <th>customer_id</th>\n",
       "      <th>gender</th>\n",
       "      <th>status</th>\n",
       "      <th>verified</th>\n",
       "      <th>language</th>\n",
       "      <th>created_at</th>\n",
       "      <th>updated_at</th>\n",
       "      <th>age</th>\n",
       "    </tr>\n",
       "  </thead>\n",
       "  <tbody>\n",
       "    <tr>\n",
       "      <th>0</th>\n",
       "      <td>TCHWPBT</td>\n",
       "      <td>Male</td>\n",
       "      <td>1</td>\n",
       "      <td>1</td>\n",
       "      <td>EN</td>\n",
       "      <td>2/7/2023 19:16</td>\n",
       "      <td>2/7/2023 19:16</td>\n",
       "      <td>NaN</td>\n",
       "    </tr>\n",
       "    <tr>\n",
       "      <th>1</th>\n",
       "      <td>ZGFSYCZ</td>\n",
       "      <td>Male</td>\n",
       "      <td>1</td>\n",
       "      <td>1</td>\n",
       "      <td>EN</td>\n",
       "      <td>2/9/2023 12:04</td>\n",
       "      <td>2/9/2023 12:04</td>\n",
       "      <td>NaN</td>\n",
       "    </tr>\n",
       "    <tr>\n",
       "      <th>2</th>\n",
       "      <td>S2ALZFL</td>\n",
       "      <td>Male</td>\n",
       "      <td>0</td>\n",
       "      <td>1</td>\n",
       "      <td>EN</td>\n",
       "      <td>3/14/2023 18:31</td>\n",
       "      <td>3/14/2023 18:31</td>\n",
       "      <td>NaN</td>\n",
       "    </tr>\n",
       "    <tr>\n",
       "      <th>3</th>\n",
       "      <td>952DBJQ</td>\n",
       "      <td>Male</td>\n",
       "      <td>1</td>\n",
       "      <td>1</td>\n",
       "      <td>EN</td>\n",
       "      <td>3/15/2023 19:47</td>\n",
       "      <td>3/15/2023 19:47</td>\n",
       "      <td>NaN</td>\n",
       "    </tr>\n",
       "    <tr>\n",
       "      <th>4</th>\n",
       "      <td>1IX6FXS</td>\n",
       "      <td>Male</td>\n",
       "      <td>1</td>\n",
       "      <td>1</td>\n",
       "      <td>EN</td>\n",
       "      <td>3/15/2023 19:57</td>\n",
       "      <td>3/15/2023 19:57</td>\n",
       "      <td>NaN</td>\n",
       "    </tr>\n",
       "  </tbody>\n",
       "</table>\n",
       "</div>"
      ],
      "text/plain": [
       "  customer_id gender  status  verified language       created_at  \\\n",
       "0     TCHWPBT   Male       1         1       EN   2/7/2023 19:16   \n",
       "1     ZGFSYCZ   Male       1         1       EN   2/9/2023 12:04   \n",
       "2     S2ALZFL   Male       0         1       EN  3/14/2023 18:31   \n",
       "3     952DBJQ   Male       1         1       EN  3/15/2023 19:47   \n",
       "4     1IX6FXS   Male       1         1       EN  3/15/2023 19:57   \n",
       "\n",
       "        updated_at  age  \n",
       "0   2/7/2023 19:16  NaN  \n",
       "1   2/9/2023 12:04  NaN  \n",
       "2  3/14/2023 18:31  NaN  \n",
       "3  3/15/2023 19:47  NaN  \n",
       "4  3/15/2023 19:57  NaN  "
      ]
     },
     "execution_count": 10,
     "metadata": {},
     "output_type": "execute_result"
    }
   ],
   "source": [
    "train_customers.head()"
   ]
  },
  {
   "cell_type": "code",
   "execution_count": 11,
   "id": "a09646be",
   "metadata": {},
   "outputs": [
    {
     "name": "stderr",
     "output_type": "stream",
     "text": [
      "C:\\Users\\dybsb\\AppData\\Local\\Temp\\ipykernel_13812\\293032966.py:1: FutureWarning: A value is trying to be set on a copy of a DataFrame or Series through chained assignment using an inplace method.\n",
      "The behavior will change in pandas 3.0. This inplace method will never work because the intermediate object on which we are setting values always behaves as a copy.\n",
      "\n",
      "For example, when doing 'df[col].method(value, inplace=True)', try using 'df.method({col: value}, inplace=True)' or df[col] = df[col].method(value) instead, to perform the operation inplace on the original object.\n",
      "\n",
      "\n",
      "  train_customers['language'].fillna('Unknown', inplace=True) # Fill missing values in language with 'Unknown'\n"
     ]
    }
   ],
   "source": [
    "train_customers['language'].fillna('Unknown', inplace=True) # Fill missing values in language with 'Unknown'"
   ]
  },
  {
   "cell_type": "code",
   "execution_count": 12,
   "id": "46c676af",
   "metadata": {},
   "outputs": [
    {
     "data": {
      "text/html": [
       "<div>\n",
       "<style scoped>\n",
       "    .dataframe tbody tr th:only-of-type {\n",
       "        vertical-align: middle;\n",
       "    }\n",
       "\n",
       "    .dataframe tbody tr th {\n",
       "        vertical-align: top;\n",
       "    }\n",
       "\n",
       "    .dataframe thead th {\n",
       "        text-align: right;\n",
       "    }\n",
       "</style>\n",
       "<table border=\"1\" class=\"dataframe\">\n",
       "  <thead>\n",
       "    <tr style=\"text-align: right;\">\n",
       "      <th></th>\n",
       "      <th>customer_id</th>\n",
       "      <th>gender</th>\n",
       "      <th>status</th>\n",
       "      <th>verified</th>\n",
       "      <th>language</th>\n",
       "      <th>created_at</th>\n",
       "      <th>updated_at</th>\n",
       "      <th>age</th>\n",
       "    </tr>\n",
       "  </thead>\n",
       "  <tbody>\n",
       "    <tr>\n",
       "      <th>0</th>\n",
       "      <td>TCHWPBT</td>\n",
       "      <td>Male</td>\n",
       "      <td>1</td>\n",
       "      <td>1</td>\n",
       "      <td>EN</td>\n",
       "      <td>2/7/2023 19:16</td>\n",
       "      <td>2/7/2023 19:16</td>\n",
       "      <td>NaN</td>\n",
       "    </tr>\n",
       "    <tr>\n",
       "      <th>1</th>\n",
       "      <td>ZGFSYCZ</td>\n",
       "      <td>Male</td>\n",
       "      <td>1</td>\n",
       "      <td>1</td>\n",
       "      <td>EN</td>\n",
       "      <td>2/9/2023 12:04</td>\n",
       "      <td>2/9/2023 12:04</td>\n",
       "      <td>NaN</td>\n",
       "    </tr>\n",
       "    <tr>\n",
       "      <th>2</th>\n",
       "      <td>S2ALZFL</td>\n",
       "      <td>Male</td>\n",
       "      <td>0</td>\n",
       "      <td>1</td>\n",
       "      <td>EN</td>\n",
       "      <td>3/14/2023 18:31</td>\n",
       "      <td>3/14/2023 18:31</td>\n",
       "      <td>NaN</td>\n",
       "    </tr>\n",
       "    <tr>\n",
       "      <th>3</th>\n",
       "      <td>952DBJQ</td>\n",
       "      <td>Male</td>\n",
       "      <td>1</td>\n",
       "      <td>1</td>\n",
       "      <td>EN</td>\n",
       "      <td>3/15/2023 19:47</td>\n",
       "      <td>3/15/2023 19:47</td>\n",
       "      <td>NaN</td>\n",
       "    </tr>\n",
       "    <tr>\n",
       "      <th>4</th>\n",
       "      <td>1IX6FXS</td>\n",
       "      <td>Male</td>\n",
       "      <td>1</td>\n",
       "      <td>1</td>\n",
       "      <td>EN</td>\n",
       "      <td>3/15/2023 19:57</td>\n",
       "      <td>3/15/2023 19:57</td>\n",
       "      <td>NaN</td>\n",
       "    </tr>\n",
       "  </tbody>\n",
       "</table>\n",
       "</div>"
      ],
      "text/plain": [
       "  customer_id gender  status  verified language       created_at  \\\n",
       "0     TCHWPBT   Male       1         1       EN   2/7/2023 19:16   \n",
       "1     ZGFSYCZ   Male       1         1       EN   2/9/2023 12:04   \n",
       "2     S2ALZFL   Male       0         1       EN  3/14/2023 18:31   \n",
       "3     952DBJQ   Male       1         1       EN  3/15/2023 19:47   \n",
       "4     1IX6FXS   Male       1         1       EN  3/15/2023 19:57   \n",
       "\n",
       "        updated_at  age  \n",
       "0   2/7/2023 19:16  NaN  \n",
       "1   2/9/2023 12:04  NaN  \n",
       "2  3/14/2023 18:31  NaN  \n",
       "3  3/15/2023 19:47  NaN  \n",
       "4  3/15/2023 19:57  NaN  "
      ]
     },
     "execution_count": 12,
     "metadata": {},
     "output_type": "execute_result"
    }
   ],
   "source": [
    "train_customers.head()"
   ]
  },
  {
   "cell_type": "markdown",
   "id": "ba53943b",
   "metadata": {},
   "source": [
    "Feature Extraction"
   ]
  },
  {
   "cell_type": "code",
   "execution_count": 13,
   "id": "c08e8a46",
   "metadata": {},
   "outputs": [],
   "source": [
    "from datetime import datetime"
   ]
  },
  {
   "cell_type": "code",
   "execution_count": 14,
   "id": "b0f68b04",
   "metadata": {},
   "outputs": [],
   "source": [
    "# Use errors='coerce' to handle invalid formats gracefully\n",
    "train_customers['created_at'] = pd.to_datetime(train_customers['created_at'], format='mixed', dayfirst=True, errors='coerce')\n",
    "train_customers['updated_at'] = pd.to_datetime(train_customers['updated_at'], format='mixed', dayfirst=True, errors='coerce')\n",
    "\n",
    "# Days since account creation\n",
    "train_customers['account_age_days'] = (datetime.now() - train_customers['created_at']).dt.days"
   ]
  },
  {
   "cell_type": "code",
   "execution_count": 15,
   "id": "683915a3",
   "metadata": {},
   "outputs": [
    {
     "data": {
      "text/html": [
       "<div>\n",
       "<style scoped>\n",
       "    .dataframe tbody tr th:only-of-type {\n",
       "        vertical-align: middle;\n",
       "    }\n",
       "\n",
       "    .dataframe tbody tr th {\n",
       "        vertical-align: top;\n",
       "    }\n",
       "\n",
       "    .dataframe thead th {\n",
       "        text-align: right;\n",
       "    }\n",
       "</style>\n",
       "<table border=\"1\" class=\"dataframe\">\n",
       "  <thead>\n",
       "    <tr style=\"text-align: right;\">\n",
       "      <th></th>\n",
       "      <th>customer_id</th>\n",
       "      <th>gender</th>\n",
       "      <th>status</th>\n",
       "      <th>verified</th>\n",
       "      <th>language</th>\n",
       "      <th>created_at</th>\n",
       "      <th>updated_at</th>\n",
       "      <th>age</th>\n",
       "      <th>account_age_days</th>\n",
       "    </tr>\n",
       "  </thead>\n",
       "  <tbody>\n",
       "    <tr>\n",
       "      <th>0</th>\n",
       "      <td>TCHWPBT</td>\n",
       "      <td>Male</td>\n",
       "      <td>1</td>\n",
       "      <td>1</td>\n",
       "      <td>EN</td>\n",
       "      <td>2023-07-02 19:16:00</td>\n",
       "      <td>2023-07-02 19:16:00</td>\n",
       "      <td>NaN</td>\n",
       "      <td>753.0</td>\n",
       "    </tr>\n",
       "    <tr>\n",
       "      <th>1</th>\n",
       "      <td>ZGFSYCZ</td>\n",
       "      <td>Male</td>\n",
       "      <td>1</td>\n",
       "      <td>1</td>\n",
       "      <td>EN</td>\n",
       "      <td>2023-09-02 12:04:00</td>\n",
       "      <td>2023-09-02 12:04:00</td>\n",
       "      <td>NaN</td>\n",
       "      <td>691.0</td>\n",
       "    </tr>\n",
       "    <tr>\n",
       "      <th>2</th>\n",
       "      <td>S2ALZFL</td>\n",
       "      <td>Male</td>\n",
       "      <td>0</td>\n",
       "      <td>1</td>\n",
       "      <td>EN</td>\n",
       "      <td>2023-03-14 18:31:00</td>\n",
       "      <td>2023-03-14 18:31:00</td>\n",
       "      <td>NaN</td>\n",
       "      <td>863.0</td>\n",
       "    </tr>\n",
       "    <tr>\n",
       "      <th>3</th>\n",
       "      <td>952DBJQ</td>\n",
       "      <td>Male</td>\n",
       "      <td>1</td>\n",
       "      <td>1</td>\n",
       "      <td>EN</td>\n",
       "      <td>2023-03-15 19:47:00</td>\n",
       "      <td>2023-03-15 19:47:00</td>\n",
       "      <td>NaN</td>\n",
       "      <td>862.0</td>\n",
       "    </tr>\n",
       "    <tr>\n",
       "      <th>4</th>\n",
       "      <td>1IX6FXS</td>\n",
       "      <td>Male</td>\n",
       "      <td>1</td>\n",
       "      <td>1</td>\n",
       "      <td>EN</td>\n",
       "      <td>2023-03-15 19:57:00</td>\n",
       "      <td>2023-03-15 19:57:00</td>\n",
       "      <td>NaN</td>\n",
       "      <td>862.0</td>\n",
       "    </tr>\n",
       "  </tbody>\n",
       "</table>\n",
       "</div>"
      ],
      "text/plain": [
       "  customer_id gender  status  verified language          created_at  \\\n",
       "0     TCHWPBT   Male       1         1       EN 2023-07-02 19:16:00   \n",
       "1     ZGFSYCZ   Male       1         1       EN 2023-09-02 12:04:00   \n",
       "2     S2ALZFL   Male       0         1       EN 2023-03-14 18:31:00   \n",
       "3     952DBJQ   Male       1         1       EN 2023-03-15 19:47:00   \n",
       "4     1IX6FXS   Male       1         1       EN 2023-03-15 19:57:00   \n",
       "\n",
       "           updated_at  age  account_age_days  \n",
       "0 2023-07-02 19:16:00  NaN             753.0  \n",
       "1 2023-09-02 12:04:00  NaN             691.0  \n",
       "2 2023-03-14 18:31:00  NaN             863.0  \n",
       "3 2023-03-15 19:47:00  NaN             862.0  \n",
       "4 2023-03-15 19:57:00  NaN             862.0  "
      ]
     },
     "execution_count": 15,
     "metadata": {},
     "output_type": "execute_result"
    }
   ],
   "source": [
    "train_customers.head()"
   ]
  },
  {
   "cell_type": "code",
   "execution_count": 16,
   "id": "97bf37a0",
   "metadata": {},
   "outputs": [
    {
     "data": {
      "image/png": "[encoded data removed]",
      "text/plain": [
       "<Figure size 800x500 with 1 Axes>"
      ]
     },
     "metadata": {},
     "output_type": "display_data"
    }
   ],
   "source": [
    "import matplotlib.pyplot as plt\n",
    "\n",
    "# Plotting the distribution of account age in days\n",
    "plt.figure(figsize=(8, 5))\n",
    "plt.hist(train_customers['account_age_days'].dropna(), bins=30, color='skyblue', edgecolor='black')\n",
    "plt.xlabel('Account Age (days)')\n",
    "plt.ylabel('Number of Customers')\n",
    "plt.title('Distribution of Customer Account Age (days)')\n",
    "plt.show()"
   ]
  },
  {
   "cell_type": "code",
   "execution_count": 17,
   "id": "572bdc1c",
   "metadata": {},
   "outputs": [],
   "source": [
    "train_customers['last_active_days_ago'] = (datetime.now() - train_customers['updated_at']).dt.days"
   ]
  },
  {
   "cell_type": "code",
   "execution_count": 18,
   "id": "990c280e",
   "metadata": {},
   "outputs": [
    {
     "data": {
      "image/png": "[encoded data removed]",
      "text/plain": [
       "<Figure size 800x500 with 1 Axes>"
      ]
     },
     "metadata": {},
     "output_type": "display_data"
    }
   ],
   "source": [
    "# Plotting the distribution of last active days ago\n",
    "\n",
    "plt.figure(figsize=(8, 5))\n",
    "plt.hist(train_customers['last_active_days_ago'].dropna(), bins=30, color='skyblue', edgecolor='black')\n",
    "plt.xlabel('Account last active Age (days)')\n",
    "plt.ylabel('Number of Customers')\n",
    "plt.title('Distribution of Customer Account Age (days)')\n",
    "plt.show()"
   ]
  },
  {
   "cell_type": "code",
   "execution_count": 19,
   "id": "1bce41bd",
   "metadata": {},
   "outputs": [],
   "source": [
    "train_customers['status'] = train_customers['status'].astype('category')\n",
    "train_customers['verified'] = train_customers['verified'].astype('category')\n"
   ]
  },
  {
   "cell_type": "code",
   "execution_count": 20,
   "id": "98c285ec",
   "metadata": {},
   "outputs": [
    {
     "data": {
      "text/plain": [
       "count     34674\n",
       "unique       11\n",
       "top        Male\n",
       "freq      17815\n",
       "Name: gender, dtype: object"
      ]
     },
     "execution_count": 20,
     "metadata": {},
     "output_type": "execute_result"
    }
   ],
   "source": [
    "train_customers['gender'].describe()"
   ]
  },
  {
   "cell_type": "code",
   "execution_count": 21,
   "id": "d5214ad4",
   "metadata": {},
   "outputs": [
    {
     "name": "stderr",
     "output_type": "stream",
     "text": [
      "C:\\Users\\dybsb\\AppData\\Local\\Temp\\ipykernel_13812\\3811643851.py:2: FutureWarning: The default of observed=False is deprecated and will be changed to True in a future version of pandas. Pass observed=False to retain current behavior or observed=True to adopt the future default and silence this warning.\n",
      "  status_verified_counts = train_customers.groupby(['verified']).size()\n"
     ]
    },
    {
     "data": {
      "image/png": "[encoded data removed]",
      "text/plain": [
       "<Figure size 800x500 with 1 Axes>"
      ]
     },
     "metadata": {},
     "output_type": "display_data"
    }
   ],
   "source": [
    "# Countplot for status and verified\n",
    "status_verified_counts = train_customers.groupby(['verified']).size()\n",
    "\n",
    "status_verified_counts.plot(kind='bar', figsize=(8, 5), color='skyblue', edgecolor='black')\n",
    "plt.xlabel('Verfication')\n",
    "plt.ylabel('Number of Customers')\n",
    "plt.title('Customers by  Verified Status')\n",
    "plt.show()"
   ]
  },
  {
   "cell_type": "code",
   "execution_count": 22,
   "id": "df09a57d",
   "metadata": {},
   "outputs": [
    {
     "data": {
      "image/png": "[encoded data removed]",
      "text/plain": [
       "<Figure size 800x500 with 1 Axes>"
      ]
     },
     "metadata": {},
     "output_type": "display_data"
    }
   ],
   "source": [
    "\n",
    "\n",
    "# Countplot for status and verified\n",
    "status_verified_counts = train_customers.groupby(['gender']).size()\n",
    "\n",
    "status_verified_counts.plot(kind='bar', figsize=(8, 5), color='skyblue', edgecolor='black')\n",
    "plt.xlabel('Gender')\n",
    "plt.ylabel('Number of Customers')\n",
    "plt.title('Customers by Gender')\n",
    "plt.show()"
   ]
  },
  {
   "cell_type": "code",
   "execution_count": 23,
   "id": "e19a7d35",
   "metadata": {},
   "outputs": [],
   "source": [
    "train_customers['age_group'] = pd.cut(train_customers['age'], bins=[0, 18, 30, 45, 60, 100], labels=['Teen', 'Young Adult', 'Adult', 'Middle Age', 'Senior'])\n"
   ]
  },
  {
   "cell_type": "code",
   "execution_count": 24,
   "id": "909e00a2",
   "metadata": {},
   "outputs": [
    {
     "data": {
      "text/html": [
       "<div>\n",
       "<style scoped>\n",
       "    .dataframe tbody tr th:only-of-type {\n",
       "        vertical-align: middle;\n",
       "    }\n",
       "\n",
       "    .dataframe tbody tr th {\n",
       "        vertical-align: top;\n",
       "    }\n",
       "\n",
       "    .dataframe thead th {\n",
       "        text-align: right;\n",
       "    }\n",
       "</style>\n",
       "<table border=\"1\" class=\"dataframe\">\n",
       "  <thead>\n",
       "    <tr style=\"text-align: right;\">\n",
       "      <th></th>\n",
       "      <th>customer_id</th>\n",
       "      <th>gender</th>\n",
       "      <th>status</th>\n",
       "      <th>verified</th>\n",
       "      <th>language</th>\n",
       "      <th>created_at</th>\n",
       "      <th>updated_at</th>\n",
       "      <th>age</th>\n",
       "      <th>account_age_days</th>\n",
       "      <th>last_active_days_ago</th>\n",
       "      <th>age_group</th>\n",
       "    </tr>\n",
       "  </thead>\n",
       "  <tbody>\n",
       "    <tr>\n",
       "      <th>0</th>\n",
       "      <td>TCHWPBT</td>\n",
       "      <td>Male</td>\n",
       "      <td>1</td>\n",
       "      <td>1</td>\n",
       "      <td>EN</td>\n",
       "      <td>2023-07-02 19:16:00</td>\n",
       "      <td>2023-07-02 19:16:00</td>\n",
       "      <td>NaN</td>\n",
       "      <td>753.0</td>\n",
       "      <td>753.0</td>\n",
       "      <td>NaN</td>\n",
       "    </tr>\n",
       "    <tr>\n",
       "      <th>1</th>\n",
       "      <td>ZGFSYCZ</td>\n",
       "      <td>Male</td>\n",
       "      <td>1</td>\n",
       "      <td>1</td>\n",
       "      <td>EN</td>\n",
       "      <td>2023-09-02 12:04:00</td>\n",
       "      <td>2023-09-02 12:04:00</td>\n",
       "      <td>NaN</td>\n",
       "      <td>691.0</td>\n",
       "      <td>691.0</td>\n",
       "      <td>NaN</td>\n",
       "    </tr>\n",
       "    <tr>\n",
       "      <th>2</th>\n",
       "      <td>S2ALZFL</td>\n",
       "      <td>Male</td>\n",
       "      <td>0</td>\n",
       "      <td>1</td>\n",
       "      <td>EN</td>\n",
       "      <td>2023-03-14 18:31:00</td>\n",
       "      <td>2023-03-14 18:31:00</td>\n",
       "      <td>NaN</td>\n",
       "      <td>863.0</td>\n",
       "      <td>863.0</td>\n",
       "      <td>NaN</td>\n",
       "    </tr>\n",
       "    <tr>\n",
       "      <th>3</th>\n",
       "      <td>952DBJQ</td>\n",
       "      <td>Male</td>\n",
       "      <td>1</td>\n",
       "      <td>1</td>\n",
       "      <td>EN</td>\n",
       "      <td>2023-03-15 19:47:00</td>\n",
       "      <td>2023-03-15 19:47:00</td>\n",
       "      <td>NaN</td>\n",
       "      <td>862.0</td>\n",
       "      <td>862.0</td>\n",
       "      <td>NaN</td>\n",
       "    </tr>\n",
       "    <tr>\n",
       "      <th>4</th>\n",
       "      <td>1IX6FXS</td>\n",
       "      <td>Male</td>\n",
       "      <td>1</td>\n",
       "      <td>1</td>\n",
       "      <td>EN</td>\n",
       "      <td>2023-03-15 19:57:00</td>\n",
       "      <td>2023-03-15 19:57:00</td>\n",
       "      <td>NaN</td>\n",
       "      <td>862.0</td>\n",
       "      <td>862.0</td>\n",
       "      <td>NaN</td>\n",
       "    </tr>\n",
       "  </tbody>\n",
       "</table>\n",
       "</div>"
      ],
      "text/plain": [
       "  customer_id gender status verified language          created_at  \\\n",
       "0     TCHWPBT   Male      1        1       EN 2023-07-02 19:16:00   \n",
       "1     ZGFSYCZ   Male      1        1       EN 2023-09-02 12:04:00   \n",
       "2     S2ALZFL   Male      0        1       EN 2023-03-14 18:31:00   \n",
       "3     952DBJQ   Male      1        1       EN 2023-03-15 19:47:00   \n",
       "4     1IX6FXS   Male      1        1       EN 2023-03-15 19:57:00   \n",
       "\n",
       "           updated_at  age  account_age_days  last_active_days_ago age_group  \n",
       "0 2023-07-02 19:16:00  NaN             753.0                 753.0       NaN  \n",
       "1 2023-09-02 12:04:00  NaN             691.0                 691.0       NaN  \n",
       "2 2023-03-14 18:31:00  NaN             863.0                 863.0       NaN  \n",
       "3 2023-03-15 19:47:00  NaN             862.0                 862.0       NaN  \n",
       "4 2023-03-15 19:57:00  NaN             862.0                 862.0       NaN  "
      ]
     },
     "execution_count": 24,
     "metadata": {},
     "output_type": "execute_result"
    }
   ],
   "source": [
    "train_customers.head()"
   ]
  },
  {
   "cell_type": "code",
   "execution_count": 25,
   "id": "c8b2b2a6",
   "metadata": {},
   "outputs": [
    {
     "data": {
      "image/png": "[encoded data removed]",
      "text/plain": [
       "<Figure size 800x500 with 1 Axes>"
      ]
     },
     "metadata": {},
     "output_type": "display_data"
    }
   ],
   "source": [
    "# Plotting the number of customers by age group\n",
    "age_group_counts = train_customers['age_group'].value_counts().sort_index()\n",
    "\n",
    "age_group_counts.plot(kind='bar', color='skyblue', edgecolor='black', figsize=(8, 5))\n",
    "plt.xlabel('Age Group')\n",
    "plt.ylabel('Number of Customers')\n",
    "plt.title('Customers by Age Group')\n",
    "plt.show()"
   ]
  },
  {
   "cell_type": "code",
   "execution_count": 26,
   "id": "65cd87a9",
   "metadata": {},
   "outputs": [
    {
     "name": "stderr",
     "output_type": "stream",
     "text": [
      "C:\\Users\\dybsb\\AppData\\Local\\Temp\\ipykernel_13812\\881854961.py:2: FutureWarning: The default of observed=False is deprecated and will be changed to True in a future version of pandas. Pass observed=False to retain current behavior or observed=True to adopt the future default and silence this warning.\n",
      "  age_status_counts = train_customers.groupby(['age_group', 'status']).size().unstack(fill_value=0)\n"
     ]
    },
    {
     "data": {
      "image/png": "[encoded data removed]",
      "text/plain": [
       "<Figure size 1000x600 with 1 Axes>"
      ]
     },
     "metadata": {},
     "output_type": "display_data"
    }
   ],
   "source": [
    "\n",
    "# Group by age_group and status, then plot\n",
    "age_status_counts = train_customers.groupby(['age_group', 'status']).size().unstack(fill_value=0)\n",
    "\n",
    "age_status_counts.plot(kind='bar', stacked=True, figsize=(10, 6))\n",
    "plt.xlabel('Age Group')\n",
    "plt.ylabel('Number of Customers')\n",
    "plt.title('Customers by Age Group and Status')\n",
    "plt.legend(title='Status')\n",
    "plt.show()"
   ]
  },
  {
   "cell_type": "code",
   "execution_count": 27,
   "id": "7396a560",
   "metadata": {},
   "outputs": [],
   "source": [
    "from sklearn.preprocessing import LabelEncoder"
   ]
  },
  {
   "cell_type": "code",
   "execution_count": 28,
   "id": "f43e7b9b",
   "metadata": {},
   "outputs": [
    {
     "name": "stderr",
     "output_type": "stream",
     "text": [
      "C:\\Users\\dybsb\\AppData\\Local\\Temp\\ipykernel_13812\\1731645490.py:2: FutureWarning: A value is trying to be set on a copy of a DataFrame or Series through chained assignment using an inplace method.\n",
      "The behavior will change in pandas 3.0. This inplace method will never work because the intermediate object on which we are setting values always behaves as a copy.\n",
      "\n",
      "For example, when doing 'df[col].method(value, inplace=True)', try using 'df.method({col: value}, inplace=True)' or df[col] = df[col].method(value) instead, to perform the operation inplace on the original object.\n",
      "\n",
      "\n",
      "  train_customers['age'].fillna(train_customers['age'].median(), inplace=True)\n"
     ]
    }
   ],
   "source": [
    "# Fill missing numerical values\n",
    "train_customers['age'].fillna(train_customers['age'].median(), inplace=True)\n",
    "\n",
    "# One-hot encode multi-class categorical features\n",
    "train_customers = pd.get_dummies(train_customers, columns=['gender', 'language', 'age_group'], drop_first=True)"
   ]
  },
  {
   "cell_type": "code",
   "execution_count": 29,
   "id": "24b8f9db",
   "metadata": {},
   "outputs": [],
   "source": [
    "from sklearn.preprocessing import StandardScaler\n",
    "# Scale numerical features\n",
    "scaler = StandardScaler()\n",
    "num_cols = ['account_age_days', 'last_active_days_ago', 'age']\n",
    "train_customers[num_cols] = scaler.fit_transform(train_customers[num_cols])"
   ]
  },
  {
   "cell_type": "code",
   "execution_count": 30,
   "id": "afe63478",
   "metadata": {},
   "outputs": [],
   "source": [
    "# Drop customer_id before modeling\n",
    "X = train_customers.drop(columns=['customer_id'])"
   ]
  },
  {
   "cell_type": "code",
   "execution_count": 31,
   "id": "8a0cfa83",
   "metadata": {},
   "outputs": [
    {
     "data": {
      "text/html": [
       "<div>\n",
       "<style scoped>\n",
       "    .dataframe tbody tr th:only-of-type {\n",
       "        vertical-align: middle;\n",
       "    }\n",
       "\n",
       "    .dataframe tbody tr th {\n",
       "        vertical-align: top;\n",
       "    }\n",
       "\n",
       "    .dataframe thead th {\n",
       "        text-align: right;\n",
       "    }\n",
       "</style>\n",
       "<table border=\"1\" class=\"dataframe\">\n",
       "  <thead>\n",
       "    <tr style=\"text-align: right;\">\n",
       "      <th></th>\n",
       "      <th>status</th>\n",
       "      <th>verified</th>\n",
       "      <th>created_at</th>\n",
       "      <th>updated_at</th>\n",
       "      <th>age</th>\n",
       "      <th>account_age_days</th>\n",
       "      <th>last_active_days_ago</th>\n",
       "      <th>gender_?????</th>\n",
       "      <th>gender_Female</th>\n",
       "      <th>gender_Female</th>\n",
       "      <th>...</th>\n",
       "      <th>gender_Female</th>\n",
       "      <th>gender_Male</th>\n",
       "      <th>gender_Male</th>\n",
       "      <th>gender_Unknown</th>\n",
       "      <th>gender_male</th>\n",
       "      <th>language_Unknown</th>\n",
       "      <th>age_group_Young Adult</th>\n",
       "      <th>age_group_Adult</th>\n",
       "      <th>age_group_Middle Age</th>\n",
       "      <th>age_group_Senior</th>\n",
       "    </tr>\n",
       "  </thead>\n",
       "  <tbody>\n",
       "    <tr>\n",
       "      <th>0</th>\n",
       "      <td>1</td>\n",
       "      <td>1</td>\n",
       "      <td>2023-07-02 19:16:00</td>\n",
       "      <td>2023-07-02 19:16:00</td>\n",
       "      <td>-0.010947</td>\n",
       "      <td>1.748214</td>\n",
       "      <td>1.638207</td>\n",
       "      <td>False</td>\n",
       "      <td>False</td>\n",
       "      <td>False</td>\n",
       "      <td>...</td>\n",
       "      <td>False</td>\n",
       "      <td>True</td>\n",
       "      <td>False</td>\n",
       "      <td>False</td>\n",
       "      <td>False</td>\n",
       "      <td>False</td>\n",
       "      <td>False</td>\n",
       "      <td>False</td>\n",
       "      <td>False</td>\n",
       "      <td>False</td>\n",
       "    </tr>\n",
       "    <tr>\n",
       "      <th>1</th>\n",
       "      <td>1</td>\n",
       "      <td>1</td>\n",
       "      <td>2023-09-02 12:04:00</td>\n",
       "      <td>2023-09-02 12:04:00</td>\n",
       "      <td>-0.010947</td>\n",
       "      <td>1.456103</td>\n",
       "      <td>1.363443</td>\n",
       "      <td>False</td>\n",
       "      <td>False</td>\n",
       "      <td>False</td>\n",
       "      <td>...</td>\n",
       "      <td>False</td>\n",
       "      <td>True</td>\n",
       "      <td>False</td>\n",
       "      <td>False</td>\n",
       "      <td>False</td>\n",
       "      <td>False</td>\n",
       "      <td>False</td>\n",
       "      <td>False</td>\n",
       "      <td>False</td>\n",
       "      <td>False</td>\n",
       "    </tr>\n",
       "    <tr>\n",
       "      <th>2</th>\n",
       "      <td>0</td>\n",
       "      <td>1</td>\n",
       "      <td>2023-03-14 18:31:00</td>\n",
       "      <td>2023-03-14 18:31:00</td>\n",
       "      <td>-0.010947</td>\n",
       "      <td>2.266475</td>\n",
       "      <td>2.125691</td>\n",
       "      <td>False</td>\n",
       "      <td>False</td>\n",
       "      <td>False</td>\n",
       "      <td>...</td>\n",
       "      <td>False</td>\n",
       "      <td>True</td>\n",
       "      <td>False</td>\n",
       "      <td>False</td>\n",
       "      <td>False</td>\n",
       "      <td>False</td>\n",
       "      <td>False</td>\n",
       "      <td>False</td>\n",
       "      <td>False</td>\n",
       "      <td>False</td>\n",
       "    </tr>\n",
       "    <tr>\n",
       "      <th>3</th>\n",
       "      <td>1</td>\n",
       "      <td>1</td>\n",
       "      <td>2023-03-15 19:47:00</td>\n",
       "      <td>2023-03-15 19:47:00</td>\n",
       "      <td>-0.010947</td>\n",
       "      <td>2.261763</td>\n",
       "      <td>2.121259</td>\n",
       "      <td>False</td>\n",
       "      <td>False</td>\n",
       "      <td>False</td>\n",
       "      <td>...</td>\n",
       "      <td>False</td>\n",
       "      <td>True</td>\n",
       "      <td>False</td>\n",
       "      <td>False</td>\n",
       "      <td>False</td>\n",
       "      <td>False</td>\n",
       "      <td>False</td>\n",
       "      <td>False</td>\n",
       "      <td>False</td>\n",
       "      <td>False</td>\n",
       "    </tr>\n",
       "    <tr>\n",
       "      <th>4</th>\n",
       "      <td>1</td>\n",
       "      <td>1</td>\n",
       "      <td>2023-03-15 19:57:00</td>\n",
       "      <td>2023-03-15 19:57:00</td>\n",
       "      <td>-0.010947</td>\n",
       "      <td>2.261763</td>\n",
       "      <td>2.121259</td>\n",
       "      <td>False</td>\n",
       "      <td>False</td>\n",
       "      <td>False</td>\n",
       "      <td>...</td>\n",
       "      <td>False</td>\n",
       "      <td>True</td>\n",
       "      <td>False</td>\n",
       "      <td>False</td>\n",
       "      <td>False</td>\n",
       "      <td>False</td>\n",
       "      <td>False</td>\n",
       "      <td>False</td>\n",
       "      <td>False</td>\n",
       "      <td>False</td>\n",
       "    </tr>\n",
       "  </tbody>\n",
       "</table>\n",
       "<p>5 rows × 22 columns</p>\n",
       "</div>"
      ],
      "text/plain": [
       "  status verified          created_at          updated_at       age  \\\n",
       "0      1        1 2023-07-02 19:16:00 2023-07-02 19:16:00 -0.010947   \n",
       "1      1        1 2023-09-02 12:04:00 2023-09-02 12:04:00 -0.010947   \n",
       "2      0        1 2023-03-14 18:31:00 2023-03-14 18:31:00 -0.010947   \n",
       "3      1        1 2023-03-15 19:47:00 2023-03-15 19:47:00 -0.010947   \n",
       "4      1        1 2023-03-15 19:57:00 2023-03-15 19:57:00 -0.010947   \n",
       "\n",
       "   account_age_days  last_active_days_ago  gender_?????  gender_Female  \\\n",
       "0          1.748214              1.638207         False          False   \n",
       "1          1.456103              1.363443         False          False   \n",
       "2          2.266475              2.125691         False          False   \n",
       "3          2.261763              2.121259         False          False   \n",
       "4          2.261763              2.121259         False          False   \n",
       "\n",
       "   gender_Female   ...  gender_Female      gender_Male  gender_Male    \\\n",
       "0           False  ...              False         True          False   \n",
       "1           False  ...              False         True          False   \n",
       "2           False  ...              False         True          False   \n",
       "3           False  ...              False         True          False   \n",
       "4           False  ...              False         True          False   \n",
       "\n",
       "   gender_Unknown  gender_male  language_Unknown  age_group_Young Adult  \\\n",
       "0           False        False             False                  False   \n",
       "1           False        False             False                  False   \n",
       "2           False        False             False                  False   \n",
       "3           False        False             False                  False   \n",
       "4           False        False             False                  False   \n",
       "\n",
       "   age_group_Adult  age_group_Middle Age  age_group_Senior  \n",
       "0            False                 False             False  \n",
       "1            False                 False             False  \n",
       "2            False                 False             False  \n",
       "3            False                 False             False  \n",
       "4            False                 False             False  \n",
       "\n",
       "[5 rows x 22 columns]"
      ]
     },
     "execution_count": 31,
     "metadata": {},
     "output_type": "execute_result"
    }
   ],
   "source": [
    "X.head()"
   ]
  },
  {
   "cell_type": "code",
   "execution_count": null,
   "id": "a8ee6115",
   "metadata": {},
   "outputs": [],
   "source": []
  },
  {
   "cell_type": "code",
   "execution_count": null,
   "id": "d8a5ffc7",
   "metadata": {},
   "outputs": [],
   "source": []
  }
 ],
 "metadata": {
  "kernelspec": {
   "display_name": "base",
   "language": "python",
   "name": "python3"
  },
  "language_info": {
   "codemirror_mode": {
    "name": "ipython",
    "version": 3
   },
   "file_extension": ".py",
   "mimetype": "text/x-python",
   "name": "python",
   "nbconvert_exporter": "python",
   "pygments_lexer": "ipython3",
   "version": "3.11.7"
  }
 },
 "nbformat": 4,
 "nbformat_minor": 5
}
