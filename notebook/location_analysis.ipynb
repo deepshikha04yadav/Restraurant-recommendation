{
 "cells": [
  {
   "cell_type": "code",
   "execution_count": 1,
   "id": "36b8d3fe",
   "metadata": {},
   "outputs": [],
   "source": [
    "import pandas as pd\n",
    "import matplotlib.pyplot as plt\n",
    "import seaborn as sns\n",
    "import numpy as np"
   ]
  },
  {
   "cell_type": "code",
   "execution_count": 2,
   "id": "ea103de3",
   "metadata": {},
   "outputs": [],
   "source": [
    "#  Load the train_locations dataset\n",
    "locations = pd.read_csv(\"../train/train_locations.csv\")"
   ]
  },
  {
   "cell_type": "code",
   "execution_count": 3,
   "id": "57ca5fac",
   "metadata": {},
   "outputs": [
    {
     "data": {
      "text/html": [
       "<div>\n",
       "<style scoped>\n",
       "    .dataframe tbody tr th:only-of-type {\n",
       "        vertical-align: middle;\n",
       "    }\n",
       "\n",
       "    .dataframe tbody tr th {\n",
       "        vertical-align: top;\n",
       "    }\n",
       "\n",
       "    .dataframe thead th {\n",
       "        text-align: right;\n",
       "    }\n",
       "</style>\n",
       "<table border=\"1\" class=\"dataframe\">\n",
       "  <thead>\n",
       "    <tr style=\"text-align: right;\">\n",
       "      <th></th>\n",
       "      <th>customer_id</th>\n",
       "      <th>location_number</th>\n",
       "      <th>location_type</th>\n",
       "      <th>latitude</th>\n",
       "      <th>longitude</th>\n",
       "    </tr>\n",
       "  </thead>\n",
       "  <tbody>\n",
       "    <tr>\n",
       "      <th>0</th>\n",
       "      <td>02SFNJH</td>\n",
       "      <td>0</td>\n",
       "      <td>NaN</td>\n",
       "      <td>1.682392</td>\n",
       "      <td>-78.789737</td>\n",
       "    </tr>\n",
       "    <tr>\n",
       "      <th>1</th>\n",
       "      <td>02SFNJH</td>\n",
       "      <td>1</td>\n",
       "      <td>NaN</td>\n",
       "      <td>1.679137</td>\n",
       "      <td>0.766823</td>\n",
       "    </tr>\n",
       "    <tr>\n",
       "      <th>2</th>\n",
       "      <td>02SFNJH</td>\n",
       "      <td>2</td>\n",
       "      <td>NaN</td>\n",
       "      <td>-0.498648</td>\n",
       "      <td>0.661241</td>\n",
       "    </tr>\n",
       "    <tr>\n",
       "      <th>3</th>\n",
       "      <td>RU43CXC</td>\n",
       "      <td>0</td>\n",
       "      <td>Home</td>\n",
       "      <td>0.100853</td>\n",
       "      <td>0.438165</td>\n",
       "    </tr>\n",
       "    <tr>\n",
       "      <th>4</th>\n",
       "      <td>BDFBPRD</td>\n",
       "      <td>0</td>\n",
       "      <td>NaN</td>\n",
       "      <td>2.523125</td>\n",
       "      <td>0.733464</td>\n",
       "    </tr>\n",
       "  </tbody>\n",
       "</table>\n",
       "</div>"
      ],
      "text/plain": [
       "  customer_id  location_number location_type  latitude  longitude\n",
       "0     02SFNJH                0           NaN  1.682392 -78.789737\n",
       "1     02SFNJH                1           NaN  1.679137   0.766823\n",
       "2     02SFNJH                2           NaN -0.498648   0.661241\n",
       "3     RU43CXC                0          Home  0.100853   0.438165\n",
       "4     BDFBPRD                0           NaN  2.523125   0.733464"
      ]
     },
     "execution_count": 3,
     "metadata": {},
     "output_type": "execute_result"
    }
   ],
   "source": [
    "locations.head()"
   ]
  },
  {
   "cell_type": "code",
   "execution_count": 4,
   "id": "9404b08d",
   "metadata": {},
   "outputs": [
    {
     "name": "stdout",
     "output_type": "stream",
     "text": [
      "<class 'pandas.core.frame.DataFrame'>\n",
      "RangeIndex: 59503 entries, 0 to 59502\n",
      "Data columns (total 5 columns):\n",
      " #   Column           Non-Null Count  Dtype  \n",
      "---  ------           --------------  -----  \n",
      " 0   customer_id      59503 non-null  object \n",
      " 1   location_number  59503 non-null  int64  \n",
      " 2   location_type    32294 non-null  object \n",
      " 3   latitude         59497 non-null  float64\n",
      " 4   longitude        59497 non-null  float64\n",
      "dtypes: float64(2), int64(1), object(2)\n",
      "memory usage: 2.3+ MB\n"
     ]
    }
   ],
   "source": [
    "locations.info()"
   ]
  },
  {
   "cell_type": "code",
   "execution_count": 5,
   "id": "bbe227dd",
   "metadata": {},
   "outputs": [
    {
     "data": {
      "text/plain": [
       "(59503, 5)"
      ]
     },
     "execution_count": 5,
     "metadata": {},
     "output_type": "execute_result"
    }
   ],
   "source": [
    "locations.shape # shape of the dataset"
   ]
  },
  {
   "cell_type": "code",
   "execution_count": 6,
   "id": "9d0ad00a",
   "metadata": {},
   "outputs": [
    {
     "data": {
      "text/html": [
       "<div>\n",
       "<style scoped>\n",
       "    .dataframe tbody tr th:only-of-type {\n",
       "        vertical-align: middle;\n",
       "    }\n",
       "\n",
       "    .dataframe tbody tr th {\n",
       "        vertical-align: top;\n",
       "    }\n",
       "\n",
       "    .dataframe thead th {\n",
       "        text-align: right;\n",
       "    }\n",
       "</style>\n",
       "<table border=\"1\" class=\"dataframe\">\n",
       "  <thead>\n",
       "    <tr style=\"text-align: right;\">\n",
       "      <th></th>\n",
       "      <th>location_number</th>\n",
       "      <th>latitude</th>\n",
       "      <th>longitude</th>\n",
       "    </tr>\n",
       "  </thead>\n",
       "  <tbody>\n",
       "    <tr>\n",
       "      <th>count</th>\n",
       "      <td>59503.000000</td>\n",
       "      <td>59497.000000</td>\n",
       "      <td>59497.000000</td>\n",
       "    </tr>\n",
       "    <tr>\n",
       "      <th>mean</th>\n",
       "      <td>0.753592</td>\n",
       "      <td>2.361135</td>\n",
       "      <td>-25.115410</td>\n",
       "    </tr>\n",
       "    <tr>\n",
       "      <th>std</th>\n",
       "      <td>1.355645</td>\n",
       "      <td>22.734109</td>\n",
       "      <td>36.946014</td>\n",
       "    </tr>\n",
       "    <tr>\n",
       "      <th>min</th>\n",
       "      <td>0.000000</td>\n",
       "      <td>-1038.149292</td>\n",
       "      <td>-134.415302</td>\n",
       "    </tr>\n",
       "    <tr>\n",
       "      <th>25%</th>\n",
       "      <td>0.000000</td>\n",
       "      <td>-0.502593</td>\n",
       "      <td>-78.522567</td>\n",
       "    </tr>\n",
       "    <tr>\n",
       "      <th>50%</th>\n",
       "      <td>0.000000</td>\n",
       "      <td>-0.087860</td>\n",
       "      <td>0.021342</td>\n",
       "    </tr>\n",
       "    <tr>\n",
       "      <th>75%</th>\n",
       "      <td>1.000000</td>\n",
       "      <td>0.261727</td>\n",
       "      <td>0.514671</td>\n",
       "    </tr>\n",
       "    <tr>\n",
       "      <th>max</th>\n",
       "      <td>29.000000</td>\n",
       "      <td>453.653846</td>\n",
       "      <td>45.354231</td>\n",
       "    </tr>\n",
       "  </tbody>\n",
       "</table>\n",
       "</div>"
      ],
      "text/plain": [
       "       location_number      latitude     longitude\n",
       "count     59503.000000  59497.000000  59497.000000\n",
       "mean          0.753592      2.361135    -25.115410\n",
       "std           1.355645     22.734109     36.946014\n",
       "min           0.000000  -1038.149292   -134.415302\n",
       "25%           0.000000     -0.502593    -78.522567\n",
       "50%           0.000000     -0.087860      0.021342\n",
       "75%           1.000000      0.261727      0.514671\n",
       "max          29.000000    453.653846     45.354231"
      ]
     },
     "execution_count": 6,
     "metadata": {},
     "output_type": "execute_result"
    }
   ],
   "source": [
    "locations.describe() # Summary statistics of the dataset"
   ]
  },
  {
   "cell_type": "code",
   "execution_count": 7,
   "id": "7d25e2d2",
   "metadata": {},
   "outputs": [
    {
     "name": "stdout",
     "output_type": "stream",
     "text": [
      "\n",
      "Missing values per column:\n"
     ]
    },
    {
     "data": {
      "text/plain": [
       "customer_id            0\n",
       "location_number        0\n",
       "location_type      27209\n",
       "latitude               6\n",
       "longitude              6\n",
       "dtype: int64"
      ]
     },
     "execution_count": 7,
     "metadata": {},
     "output_type": "execute_result"
    }
   ],
   "source": [
    "#  Missing values check\n",
    "print(\"\\nMissing values per column:\")\n",
    "locations.isnull().sum()"
   ]
  },
  {
   "cell_type": "code",
   "execution_count": 8,
   "id": "13f1e5ee",
   "metadata": {},
   "outputs": [],
   "source": [
    "locations['location_type'] = locations['location_type'].fillna('Unknown')"
   ]
  },
  {
   "cell_type": "code",
   "execution_count": 9,
   "id": "efd21fa4",
   "metadata": {},
   "outputs": [
    {
     "name": "stdout",
     "output_type": "stream",
     "text": [
      "\n",
      "Location Type Counts:\n"
     ]
    },
    {
     "data": {
      "text/plain": [
       "location_type\n",
       "Unknown    27209\n",
       "Home       19703\n",
       "Work        6441\n",
       "Other       6150\n",
       "Name: count, dtype: int64"
      ]
     },
     "execution_count": 9,
     "metadata": {},
     "output_type": "execute_result"
    }
   ],
   "source": [
    "#  Value counts for location_type\n",
    "print(\"\\nLocation Type Counts:\")\n",
    "locations['location_type'].value_counts(dropna=False)"
   ]
  },
  {
   "cell_type": "code",
   "execution_count": 10,
   "id": "cbaf08ef",
   "metadata": {},
   "outputs": [
    {
     "data": {
      "image/png": "[encoded data removed]",
      "text/plain": [
       "<Figure size 800x600 with 1 Axes>"
      ]
     },
     "metadata": {},
     "output_type": "display_data"
    }
   ],
   "source": [
    "#  Distribution of latitude and longitude\n",
    "plt.figure(figsize=(8, 6))\n",
    "sns.scatterplot(x='longitude', y='latitude', data=locations, alpha=0.3)\n",
    "plt.title('Customer Location Scatter Plot (Masked)')\n",
    "plt.xlabel('Longitude')\n",
    "plt.ylabel('Latitude')\n",
    "plt.grid(True)\n",
    "plt.show()\n"
   ]
  },
  {
   "cell_type": "code",
   "execution_count": 11,
   "id": "d65cbc6f",
   "metadata": {},
   "outputs": [],
   "source": [
    "#  Identify outliers (locations with lat/lon far from typical ranges)\n",
    "# You can define bounds or use IQR to detect extreme values\n",
    "lat_q1, lat_q3 = locations['latitude'].quantile([0.25, 0.75])\n",
    "lon_q1, lon_q3 = locations['longitude'].quantile([0.25, 0.75])\n",
    "\n",
    "lat_iqr = lat_q3 - lat_q1\n",
    "lon_iqr = lon_q3 - lon_q1\n",
    "\n",
    "lat_min = lat_q1 - 1.5 * lat_iqr\n",
    "lat_max = lat_q3 + 1.5 * lat_iqr\n",
    "lon_min = lon_q1 - 1.5 * lon_iqr\n",
    "lon_max = lon_q3 + 1.5 * lon_iqr"
   ]
  },
  {
   "cell_type": "code",
   "execution_count": 12,
   "id": "baa998d5",
   "metadata": {},
   "outputs": [
    {
     "name": "stdout",
     "output_type": "stream",
     "text": [
      "\n",
      "Outlier Location Counts:\n"
     ]
    },
    {
     "data": {
      "text/plain": [
       "is_outlier\n",
       "False    52808\n",
       "True      6695\n",
       "Name: count, dtype: int64"
      ]
     },
     "execution_count": 12,
     "metadata": {},
     "output_type": "execute_result"
    }
   ],
   "source": [
    "# Flag potential GPS noise\n",
    "locations['is_outlier'] = ~(\n",
    "    (locations['latitude'] >= lat_min) & (locations['latitude'] <= lat_max) &\n",
    "    (locations['longitude'] >= lon_min) & (locations['longitude'] <= lon_max)\n",
    ")\n",
    "\n",
    "print(\"\\nOutlier Location Counts:\")\n",
    "locations['is_outlier'].value_counts()"
   ]
  },
  {
   "cell_type": "code",
   "execution_count": 13,
   "id": "f3b35f70",
   "metadata": {},
   "outputs": [
    {
     "data": {
      "text/html": [
       "<div>\n",
       "<style scoped>\n",
       "    .dataframe tbody tr th:only-of-type {\n",
       "        vertical-align: middle;\n",
       "    }\n",
       "\n",
       "    .dataframe tbody tr th {\n",
       "        vertical-align: top;\n",
       "    }\n",
       "\n",
       "    .dataframe thead th {\n",
       "        text-align: right;\n",
       "    }\n",
       "</style>\n",
       "<table border=\"1\" class=\"dataframe\">\n",
       "  <thead>\n",
       "    <tr style=\"text-align: right;\">\n",
       "      <th></th>\n",
       "      <th>customer_id</th>\n",
       "      <th>location_number</th>\n",
       "      <th>location_type</th>\n",
       "      <th>latitude</th>\n",
       "      <th>longitude</th>\n",
       "      <th>is_outlier</th>\n",
       "    </tr>\n",
       "  </thead>\n",
       "  <tbody>\n",
       "    <tr>\n",
       "      <th>0</th>\n",
       "      <td>02SFNJH</td>\n",
       "      <td>0</td>\n",
       "      <td>Unknown</td>\n",
       "      <td>1.682392</td>\n",
       "      <td>-78.789737</td>\n",
       "      <td>True</td>\n",
       "    </tr>\n",
       "    <tr>\n",
       "      <th>1</th>\n",
       "      <td>02SFNJH</td>\n",
       "      <td>1</td>\n",
       "      <td>Unknown</td>\n",
       "      <td>1.679137</td>\n",
       "      <td>0.766823</td>\n",
       "      <td>True</td>\n",
       "    </tr>\n",
       "    <tr>\n",
       "      <th>2</th>\n",
       "      <td>02SFNJH</td>\n",
       "      <td>2</td>\n",
       "      <td>Unknown</td>\n",
       "      <td>-0.498648</td>\n",
       "      <td>0.661241</td>\n",
       "      <td>False</td>\n",
       "    </tr>\n",
       "    <tr>\n",
       "      <th>3</th>\n",
       "      <td>RU43CXC</td>\n",
       "      <td>0</td>\n",
       "      <td>Home</td>\n",
       "      <td>0.100853</td>\n",
       "      <td>0.438165</td>\n",
       "      <td>False</td>\n",
       "    </tr>\n",
       "    <tr>\n",
       "      <th>4</th>\n",
       "      <td>BDFBPRD</td>\n",
       "      <td>0</td>\n",
       "      <td>Unknown</td>\n",
       "      <td>2.523125</td>\n",
       "      <td>0.733464</td>\n",
       "      <td>True</td>\n",
       "    </tr>\n",
       "  </tbody>\n",
       "</table>\n",
       "</div>"
      ],
      "text/plain": [
       "  customer_id  location_number location_type  latitude  longitude  is_outlier\n",
       "0     02SFNJH                0       Unknown  1.682392 -78.789737        True\n",
       "1     02SFNJH                1       Unknown  1.679137   0.766823        True\n",
       "2     02SFNJH                2       Unknown -0.498648   0.661241       False\n",
       "3     RU43CXC                0          Home  0.100853   0.438165       False\n",
       "4     BDFBPRD                0       Unknown  2.523125   0.733464        True"
      ]
     },
     "execution_count": 13,
     "metadata": {},
     "output_type": "execute_result"
    }
   ],
   "source": [
    "locations.head()"
   ]
  },
  {
   "cell_type": "markdown",
   "id": "e906fb86",
   "metadata": {},
   "source": [
    "Feature Enginereeing"
   ]
  },
  {
   "cell_type": "code",
   "execution_count": 14,
   "id": "ca685712",
   "metadata": {},
   "outputs": [],
   "source": [
    "#  Count number of locations per customer\n",
    "location_count = locations.groupby('customer_id')['location_number'].nunique().reset_index()\n",
    "location_count.columns = ['customer_id', 'num_locations']"
   ]
  },
  {
   "cell_type": "code",
   "execution_count": 15,
   "id": "fed86ce5",
   "metadata": {},
   "outputs": [],
   "source": [
    "#  Most common location type per customer\n",
    "preferred_type = locations.groupby('customer_id')['location_type'].agg(lambda x: x.mode().iloc[0] if not x.mode().empty else 'Unknown').reset_index()\n",
    "preferred_type.columns = ['customer_id', 'preferred_location_type']"
   ]
  },
  {
   "cell_type": "code",
   "execution_count": 16,
   "id": "63e1401a",
   "metadata": {},
   "outputs": [],
   "source": [
    "# Mean lat/lon (centroid) per customer\n",
    "mean_location = locations.groupby('customer_id')[['latitude', 'longitude']].mean().reset_index()\n",
    "mean_location.columns = ['customer_id', 'mean_latitude', 'mean_longitude']"
   ]
  },
  {
   "cell_type": "code",
   "execution_count": 17,
   "id": "3052dc8f",
   "metadata": {},
   "outputs": [],
   "source": [
    "# Merge all engineered features\n",
    "location_features = location_count.merge(preferred_type, on='customer_id')\n",
    "location_features = location_features.merge(mean_location, on='customer_id')"
   ]
  },
  {
   "cell_type": "code",
   "execution_count": 18,
   "id": "893ddb8b",
   "metadata": {},
   "outputs": [
    {
     "data": {
      "text/html": [
       "<div>\n",
       "<style scoped>\n",
       "    .dataframe tbody tr th:only-of-type {\n",
       "        vertical-align: middle;\n",
       "    }\n",
       "\n",
       "    .dataframe tbody tr th {\n",
       "        vertical-align: top;\n",
       "    }\n",
       "\n",
       "    .dataframe thead th {\n",
       "        text-align: right;\n",
       "    }\n",
       "</style>\n",
       "<table border=\"1\" class=\"dataframe\">\n",
       "  <thead>\n",
       "    <tr style=\"text-align: right;\">\n",
       "      <th></th>\n",
       "      <th>customer_id</th>\n",
       "      <th>num_locations</th>\n",
       "      <th>preferred_location_type</th>\n",
       "      <th>mean_latitude</th>\n",
       "      <th>mean_longitude</th>\n",
       "    </tr>\n",
       "  </thead>\n",
       "  <tbody>\n",
       "    <tr>\n",
       "      <th>0</th>\n",
       "      <td>000THBA</td>\n",
       "      <td>1</td>\n",
       "      <td>Unknown</td>\n",
       "      <td>-0.020250</td>\n",
       "      <td>0.167026</td>\n",
       "    </tr>\n",
       "    <tr>\n",
       "      <th>1</th>\n",
       "      <td>001XN9X</td>\n",
       "      <td>1</td>\n",
       "      <td>Home</td>\n",
       "      <td>0.190209</td>\n",
       "      <td>-78.613388</td>\n",
       "    </tr>\n",
       "    <tr>\n",
       "      <th>2</th>\n",
       "      <td>001ZNTK</td>\n",
       "      <td>1</td>\n",
       "      <td>Other</td>\n",
       "      <td>14.075755</td>\n",
       "      <td>-1.613278</td>\n",
       "    </tr>\n",
       "    <tr>\n",
       "      <th>3</th>\n",
       "      <td>002510Y</td>\n",
       "      <td>1</td>\n",
       "      <td>Home</td>\n",
       "      <td>0.056822</td>\n",
       "      <td>-78.597624</td>\n",
       "    </tr>\n",
       "    <tr>\n",
       "      <th>4</th>\n",
       "      <td>005ECL6</td>\n",
       "      <td>1</td>\n",
       "      <td>Work</td>\n",
       "      <td>-0.315825</td>\n",
       "      <td>0.158935</td>\n",
       "    </tr>\n",
       "  </tbody>\n",
       "</table>\n",
       "</div>"
      ],
      "text/plain": [
       "  customer_id  num_locations preferred_location_type  mean_latitude  \\\n",
       "0     000THBA              1                 Unknown      -0.020250   \n",
       "1     001XN9X              1                    Home       0.190209   \n",
       "2     001ZNTK              1                   Other      14.075755   \n",
       "3     002510Y              1                    Home       0.056822   \n",
       "4     005ECL6              1                    Work      -0.315825   \n",
       "\n",
       "   mean_longitude  \n",
       "0        0.167026  \n",
       "1      -78.613388  \n",
       "2       -1.613278  \n",
       "3      -78.597624  \n",
       "4        0.158935  "
      ]
     },
     "execution_count": 18,
     "metadata": {},
     "output_type": "execute_result"
    }
   ],
   "source": [
    "location_features.head()"
   ]
  },
  {
   "cell_type": "code",
   "execution_count": 19,
   "id": "23fc6499",
   "metadata": {},
   "outputs": [],
   "source": [
    "#  KMeans Clustering on Customer Locations\n",
    "from sklearn.cluster import KMeans\n",
    "from sklearn.preprocessing import StandardScaler"
   ]
  },
  {
   "cell_type": "code",
   "execution_count": 20,
   "id": "bcfa8b6e",
   "metadata": {},
   "outputs": [],
   "source": [
    "# Filter valid location rows (exclude outliers if needed)\n",
    "valid_locations = locations[~locations['is_outlier']].copy()"
   ]
  },
  {
   "cell_type": "code",
   "execution_count": 21,
   "id": "c182daa5",
   "metadata": {},
   "outputs": [],
   "source": [
    "# Normalize lat/lon for better KMeans performance\n",
    "scaler = StandardScaler()\n",
    "coords_scaled = scaler.fit_transform(valid_locations[['latitude', 'longitude']])"
   ]
  },
  {
   "cell_type": "code",
   "execution_count": 22,
   "id": "6ec82b3c",
   "metadata": {},
   "outputs": [],
   "source": [
    "# Apply KMeans\n",
    "k = 8  # You can change this to any reasonable number of clusters\n",
    "kmeans = KMeans(n_clusters=k, random_state=42)\n",
    "valid_locations['location_cluster'] = kmeans.fit_predict(coords_scaled)"
   ]
  },
  {
   "cell_type": "code",
   "execution_count": 24,
   "id": "be0c47eb",
   "metadata": {},
   "outputs": [
    {
     "data": {
      "image/png": "[encoded data removed]",
      "text/plain": [
       "<Figure size 1000x800 with 1 Axes>"
      ]
     },
     "metadata": {},
     "output_type": "display_data"
    }
   ],
   "source": [
    "# Visualize clusters\n",
    "plt.figure(figsize=(10, 8))\n",
    "sns.scatterplot(\n",
    "    x='longitude', y='latitude', \n",
    "    hue='location_cluster',\n",
    "    palette='tab10',\n",
    "    data=valid_locations,\n",
    "    alpha=0.5\n",
    ")\n",
    "plt.title('Customer Location Clusters (KMeans)')\n",
    "plt.xlabel('Longitude')\n",
    "plt.ylabel('Latitude')\n",
    "plt.legend(title='Cluster')\n",
    "plt.grid(True)\n",
    "plt.show()"
   ]
  },
  {
   "cell_type": "code",
   "execution_count": 25,
   "id": "00f5193a",
   "metadata": {},
   "outputs": [],
   "source": [
    "#  Attach dominant cluster to each customer\n",
    "# Option: Use most frequent cluster per customer\n",
    "dominant_cluster = valid_locations.groupby('customer_id')['location_cluster'] \\\n",
    "    .agg(lambda x: x.mode().iloc[0] if not x.mode().empty else -1) \\\n",
    "    .reset_index()\n",
    "dominant_cluster.columns = ['customer_id', 'dominant_cluster']"
   ]
  },
  {
   "cell_type": "code",
   "execution_count": 26,
   "id": "993defaf",
   "metadata": {},
   "outputs": [],
   "source": [
    "# Merge with location_features\n",
    "location_features = location_features.merge(dominant_cluster, on='customer_id', how='left')"
   ]
  },
  {
   "cell_type": "code",
   "execution_count": 27,
   "id": "66a3535c",
   "metadata": {},
   "outputs": [
    {
     "data": {
      "text/html": [
       "<div>\n",
       "<style scoped>\n",
       "    .dataframe tbody tr th:only-of-type {\n",
       "        vertical-align: middle;\n",
       "    }\n",
       "\n",
       "    .dataframe tbody tr th {\n",
       "        vertical-align: top;\n",
       "    }\n",
       "\n",
       "    .dataframe thead th {\n",
       "        text-align: right;\n",
       "    }\n",
       "</style>\n",
       "<table border=\"1\" class=\"dataframe\">\n",
       "  <thead>\n",
       "    <tr style=\"text-align: right;\">\n",
       "      <th></th>\n",
       "      <th>customer_id</th>\n",
       "      <th>num_locations</th>\n",
       "      <th>preferred_location_type</th>\n",
       "      <th>mean_latitude</th>\n",
       "      <th>mean_longitude</th>\n",
       "      <th>dominant_cluster</th>\n",
       "    </tr>\n",
       "  </thead>\n",
       "  <tbody>\n",
       "    <tr>\n",
       "      <th>0</th>\n",
       "      <td>000THBA</td>\n",
       "      <td>1</td>\n",
       "      <td>Unknown</td>\n",
       "      <td>-0.020250</td>\n",
       "      <td>0.167026</td>\n",
       "      <td>7.0</td>\n",
       "    </tr>\n",
       "    <tr>\n",
       "      <th>1</th>\n",
       "      <td>001XN9X</td>\n",
       "      <td>1</td>\n",
       "      <td>Home</td>\n",
       "      <td>0.190209</td>\n",
       "      <td>-78.613388</td>\n",
       "      <td>6.0</td>\n",
       "    </tr>\n",
       "    <tr>\n",
       "      <th>2</th>\n",
       "      <td>001ZNTK</td>\n",
       "      <td>1</td>\n",
       "      <td>Other</td>\n",
       "      <td>14.075755</td>\n",
       "      <td>-1.613278</td>\n",
       "      <td>NaN</td>\n",
       "    </tr>\n",
       "    <tr>\n",
       "      <th>3</th>\n",
       "      <td>002510Y</td>\n",
       "      <td>1</td>\n",
       "      <td>Home</td>\n",
       "      <td>0.056822</td>\n",
       "      <td>-78.597624</td>\n",
       "      <td>6.0</td>\n",
       "    </tr>\n",
       "    <tr>\n",
       "      <th>4</th>\n",
       "      <td>005ECL6</td>\n",
       "      <td>1</td>\n",
       "      <td>Work</td>\n",
       "      <td>-0.315825</td>\n",
       "      <td>0.158935</td>\n",
       "      <td>7.0</td>\n",
       "    </tr>\n",
       "  </tbody>\n",
       "</table>\n",
       "</div>"
      ],
      "text/plain": [
       "  customer_id  num_locations preferred_location_type  mean_latitude  \\\n",
       "0     000THBA              1                 Unknown      -0.020250   \n",
       "1     001XN9X              1                    Home       0.190209   \n",
       "2     001ZNTK              1                   Other      14.075755   \n",
       "3     002510Y              1                    Home       0.056822   \n",
       "4     005ECL6              1                    Work      -0.315825   \n",
       "\n",
       "   mean_longitude  dominant_cluster  \n",
       "0        0.167026               7.0  \n",
       "1      -78.613388               6.0  \n",
       "2       -1.613278               NaN  \n",
       "3      -78.597624               6.0  \n",
       "4        0.158935               7.0  "
      ]
     },
     "metadata": {},
     "output_type": "display_data"
    }
   ],
   "source": [
    "# Preview final features\n",
    "display(location_features.head())"
   ]
  },
  {
   "cell_type": "code",
   "execution_count": null,
   "id": "d0c4aadc",
   "metadata": {},
   "outputs": [],
   "source": []
  }
 ],
 "metadata": {
  "kernelspec": {
   "display_name": "base",
   "language": "python",
   "name": "python3"
  },
  "language_info": {
   "codemirror_mode": {
    "name": "ipython",
    "version": 3
   },
   "file_extension": ".py",
   "mimetype": "text/x-python",
   "name": "python",
   "nbconvert_exporter": "python",
   "pygments_lexer": "ipython3",
   "version": "3.11.7"
  }
 },
 "nbformat": 4,
 "nbformat_minor": 5
}
